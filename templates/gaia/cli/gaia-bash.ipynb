{
 "cells": [
  {
   "cell_type": "markdown",
   "id": "acfbe27a-98a0-4cfe-8117-162ee105cbef",
   "metadata": {
    "tags": []
   },
   "source": [
    "# Bash Pre-processing"
   ]
  },
  {
   "cell_type": "code",
   "execution_count": 1,
   "id": "4d247c7c-85f4-432b-9fbc-8a0e21a91287",
   "metadata": {
    "tags": []
   },
   "outputs": [
    {
     "name": "stdout",
     "output_type": "stream",
     "text": [
      "/home/devops/src/webpage-study-group/templates/gaia/cli\n"
     ]
    }
   ],
   "source": [
    "# should be /home/devops/src/webpage-study-group/templates/gaia/cli\n",
    "!pwd"
   ]
  },
  {
   "cell_type": "code",
   "execution_count": 2,
   "id": "449b19b3-f0bf-43cd-b672-d4cf544c24ea",
   "metadata": {
    "tags": []
   },
   "outputs": [
    {
     "name": "stdout",
     "output_type": "stream",
     "text": [
      "This is a collection of Bash functions for Extraction,\n",
      "Transformation and Loading of the Google document Knowing Gaia.\n",
      "\n",
      "https://docs.google.com/document/d/1QCWu6BMxVjcee9mf7tEMx8Z048ciYwlmx-EkoVSyzVI\n",
      "\n",
      "\n",
      "It is also a command line interface for reading the book.\n",
      "\n",
      "1. Copy and paste text into raw.txt\n",
      "2. gaia-clean\n",
      "3. gaia-index\n",
      "4. gaia-display 2 3 # display Chapter 2, Prompt 3\n",
      "\n",
      "To make webpage:\n",
      "1. Set version bash variable GAIA_VERSION\n",
      "2. gaia-components-to-html   # takes ./components -> ./html\n",
      "3. gaia-html-make-all > $GAIA_VERSION.html \n",
      "\n"
     ]
    }
   ],
   "source": [
    "!source gaia.sh; gaia-help"
   ]
  },
  {
   "cell_type": "code",
   "execution_count": 3,
   "id": "99838416-3307-4702-a980-69899861d37a",
   "metadata": {
    "tags": []
   },
   "outputs": [
    {
     "name": "stdout",
     "output_type": "stream",
     "text": [
      "2 chapterStart C1: Introduction\n",
      "\n",
      "9 chapterStart C2: Taking a leap into the deeply personal\n",
      "\n",
      "15 promptStart P1: Since living systems do not exist independently in \n",
      "16 promptStart P2: Integrity is a function of how well a system is int\n",
      "17 promptStart P3: The problem with living in a dream is that real peo\n",
      "18 promptStart P4: If I'm not feeling my inner body right now, I'm not\n",
      "19 promptStart P5: Since Gaia is what's real, any gap in honesty separ\n",
      "20 promptStart P6: How much power do you think you have? How much do y\n"
     ]
    }
   ],
   "source": [
    "# Bash functions for indexing raw text. Index file contains lines\n",
    "# of the form\n",
    "#  lineNum typeOfLine Frist 40 chars of line just for confirmation\n",
    "!source gaia.sh && gaia-clean && \\\n",
    "gaia-index && head clean.index"
   ]
  },
  {
   "cell_type": "markdown",
   "id": "792a7d17-3fed-4c2b-b3d0-acd8c571a73c",
   "metadata": {
    "tags": []
   },
   "source": [
    "## Raw text exploration with Bash commandline processing\n",
    "\n",
    "Nothing is faster than [xxd](), [sed](https://www.grymoire.com/Unix/Sed.html), [awk](https://www.gnu.org/software/gawk/manual/gawk.html) and [tr](https://linuxize.com/post/linux-tr-command/) for cleaning up text files.\n",
    "\n",
    "tool | scope | notes \n",
    "-----|-----|-----\n",
    "xxd | raw hex | like a microscope- displays code point for every byte (new line =0x0a)\n",
    "tr  |  character | good for mapping out troublesome characters \n",
    "sed |  word | line by line processor without memory so it is good for splitting lines into tokens and cajoling text on the character and word level.\n",
    "awk | line |Provides default $1, $2, $3 etc as tokens for current line and provides more sophisticated conditional logic."
   ]
  },
  {
   "cell_type": "code",
   "execution_count": 4,
   "id": "d2ab9604-9955-4c44-824f-55ee6ed7d93e",
   "metadata": {
    "tags": []
   },
   "outputs": [
    {
     "name": "stdout",
     "output_type": "stream",
     "text": [
      "   221\tKnowing Gaia is an attitude.\n",
      "   222\tI must always reconsider.\n",
      "   223\tI can go back to silence.\n",
      "   224\tI can start over.\n",
      "   225\tYou will find your own words and your own silence.\n",
      "   226\tYou will find your own way of knowing Gaia.\n",
      "   227\tPat Adducci\n",
      "   228\tYucca Valley, California\n",
      "   229\tMay 15, 2020\n",
      "   230\tpatadducci1940@gmail.com\n"
     ]
    }
   ],
   "source": [
    "# blast it out with line numbers\n",
    "# pipe it into less to page thru and look for big issues\n",
    "! cat -n clean.txt | tail"
   ]
  },
  {
   "cell_type": "code",
   "execution_count": 5,
   "id": "58e2e889-e14d-4d18-975f-0463047650e1",
   "metadata": {
    "tags": []
   },
   "outputs": [
    {
     "name": "stdout",
     "output_type": "stream",
     "text": [
      "0001c530: 7264 7320 616e 6420 796f 7572 206f 776e  rds and your own\n",
      "0001c540: 2073 696c 656e 6365 2e0a 596f 7520 7769   silence..You wi\n",
      "0001c550: 6c6c 2066 696e 6420 796f 7572 206f 776e  ll find your own\n",
      "0001c560: 2077 6179 206f 6620 6b6e 6f77 696e 6720   way of knowing \n",
      "0001c570: 4761 6961 2e0a 5061 7420 4164 6475 6363  Gaia..Pat Adducc\n",
      "0001c580: 690a 5975 6363 6120 5661 6c6c 6579 2c20  i.Yucca Valley, \n",
      "0001c590: 4361 6c69 666f 726e 6961 0a4d 6179 2031  California.May 1\n",
      "0001c5a0: 352c 2032 3032 300a 7061 7461 6464 7563  5, 2020.patadduc\n",
      "0001c5b0: 6369 3139 3430 4067 6d61 696c 2e63 6f6d  ci1940@gmail.com\n",
      "0001c5c0: 0a                                       .\n"
     ]
    }
   ],
   "source": [
    "# notice the double new lines 0a0a in the middle of this output:\n",
    "! cat clean.txt | xxd | tail"
   ]
  },
  {
   "cell_type": "code",
   "execution_count": 6,
   "id": "81f1cde4-7bbe-4791-b36f-6a50bb8a31fb",
   "metadata": {
    "tags": []
   },
   "outputs": [
    {
     "name": "stdout",
     "output_type": "stream",
     "text": [
      "    214   20687  115855\n"
     ]
    }
   ],
   "source": [
    "# lets see how many lines are new lines\n",
    "!grep \"\\n\" < clean.txt | wc"
   ]
  }
 ],
 "metadata": {
  "kernelspec": {
   "display_name": "Python 3 (ipykernel)",
   "language": "python",
   "name": "python3"
  },
  "language_info": {
   "codemirror_mode": {
    "name": "ipython",
    "version": 3
   },
   "file_extension": ".py",
   "mimetype": "text/x-python",
   "name": "python",
   "nbconvert_exporter": "python",
   "pygments_lexer": "ipython3",
   "version": "3.8.10"
  }
 },
 "nbformat": 4,
 "nbformat_minor": 5
}
