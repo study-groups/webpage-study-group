{
 "cells": [
  {
   "cell_type": "markdown",
   "id": "53ec682a-ebda-421a-9db8-e46e820c7816",
   "metadata": {
    "tags": []
   },
   "source": [
    "# EDA with SpaCy"
   ]
  },
  {
   "cell_type": "markdown",
   "id": "d2edfa2c-ef72-410b-85c3-c7f500c17fdc",
   "metadata": {
    "tags": []
   },
   "source": [
    "## The spaCy pipeline\n",
    "\n",
    "\"When you call nlp on a text, spaCy first tokenizes the text to produce a Doc object. The Doc is then processed in several different steps – this is also referred to as the processing [pipeline](https://spacy.io/usage/processing-pipelines).\" \n",
    "\n",
    "From https://course.spacy.io/en/chapter3:|\n",
    "\n",
    "<img src=\"https://spacy.io/pipeline-fde48da9b43661abcdf62ab70a546d71.svg\">"
   ]
  },
  {
   "cell_type": "code",
   "execution_count": 1,
   "id": "2f20fdad-2ac1-46cf-9eb1-09166bd3c1a0",
   "metadata": {
    "tags": []
   },
   "outputs": [
    {
     "name": "stdout",
     "output_type": "stream",
     "text": [
      "['tok2vec', 'tagger', 'parser', 'attribute_ruler', 'lemmatizer', 'ner']\n"
     ]
    }
   ],
   "source": [
    "import sys\n",
    "import spacy\n",
    "#from spacy.tokens import Doc, Span\n",
    "nlp = spacy.load(\"en_core_web_md\") #_sm does not have word vectors\n",
    "print(nlp.pipe_names)"
   ]
  },
  {
   "cell_type": "markdown",
   "id": "7a2b1bf3-61cb-425b-ba6e-e62dc5683ed2",
   "metadata": {},
   "source": [
    "## Adding sentiment via TextBlob"
   ]
  },
  {
   "cell_type": "code",
   "execution_count": 2,
   "id": "b7d8b7c6-202f-4366-b14e-2047d6582eb2",
   "metadata": {
    "tags": []
   },
   "outputs": [
    {
     "name": "stdout",
     "output_type": "stream",
     "text": [
      "['tok2vec', 'tagger', 'parser', 'attribute_ruler', 'lemmatizer', 'ner', 'spacytextblob']\n"
     ]
    }
   ],
   "source": [
    "from spacytextblob.spacytextblob import SpacyTextBlob\n",
    "nlp.add_pipe('spacytextblob')\n",
    "print(nlp.pipe_names)"
   ]
  },
  {
   "cell_type": "markdown",
   "id": "943f8359-1026-4544-b334-d1e16186fae2",
   "metadata": {
    "tags": []
   },
   "source": [
    "## Spacy Architecture \n",
    "\n",
    "![](https://spacy.io/architecture-415624fc7d149ec03f2736c4aa8b8f3c.svg)"
   ]
  },
  {
   "cell_type": "markdown",
   "id": "619de1fa-f856-4ba0-9d1a-860bd58439c7",
   "metadata": {
    "tags": []
   },
   "source": [
    "## Exploring document structure"
   ]
  },
  {
   "cell_type": "code",
   "execution_count": 3,
   "id": "417387d7-4b69-4575-8fe4-8a450adce477",
   "metadata": {},
   "outputs": [],
   "source": [
    "# Break the corpus into:\n",
    "# Title, Chapters, Sections, Paragraphs, Thoughts, Sentences\n",
    "#  Title: Knowing Gaia\n",
    "#  C1:Introduction 1 section, 6 paragraphs\n",
    "#  C2:Taking a leap 8 sections, 7 paragraphs\n",
    "#  C3-C10: each with 10 sections  thought-embedding \n",
    "#  C11: Contemplation: 2 sections"
   ]
  },
  {
   "cell_type": "code",
   "execution_count": 4,
   "id": "a4584c56-222d-4302-b5b4-875a76d1e67c",
   "metadata": {},
   "outputs": [],
   "source": [
    "doc=nlp(open(\"clean.txt\",'r').read())"
   ]
  },
  {
   "cell_type": "code",
   "execution_count": 5,
   "id": "3d8dcf13-6d9e-43b6-930c-5844d8039a9c",
   "metadata": {},
   "outputs": [
    {
     "name": "stdout",
     "output_type": "stream",
     "text": [
      "['traditional', 'non', '-', 'duality', 'speakers', ',', 'I', 'was', 'inspired']\n"
     ]
    }
   ],
   "source": [
    "# Before extra bash cleaning:\n",
    "#print([tok.text for tok in doc[21:30] \n",
    "# if not tok.is_stop and tok.text!=\"\\n\\n\"])\n",
    "\n",
    "# After extra bash cleaning:\n",
    "print([tok.text for tok in doc[21:30]])"
   ]
  },
  {
   "cell_type": "code",
   "execution_count": 6,
   "id": "aca3253b-26b5-4bd9-b51c-9fa0623670bb",
   "metadata": {
    "tags": []
   },
   "outputs": [
    {
     "data": {
      "text/plain": [
       "spacy.tokens.span.Span"
      ]
     },
     "execution_count": 6,
     "metadata": {},
     "output_type": "execute_result"
    }
   ],
   "source": [
    "sents=[ sent for sent in doc.sents]\n",
    "type(sents[0])"
   ]
  },
  {
   "cell_type": "code",
   "execution_count": 7,
   "id": "f5ee4b18-98de-4f34-8864-fe20859ecf80",
   "metadata": {
    "tags": []
   },
   "outputs": [],
   "source": [
    "nlp.vocab[\"\\n\"].is_stop = True\n",
    "words=[token.text for token in doc\n",
    "       if not token.is_stop and not token.is_punct ]"
   ]
  },
  {
   "cell_type": "code",
   "execution_count": 8,
   "id": "34b7fcd9-d149-4c58-bdea-bcf6719c5942",
   "metadata": {
    "tags": []
   },
   "outputs": [],
   "source": [
    "from collections import Counter\n",
    "word_freq=Counter(words)"
   ]
  },
  {
   "cell_type": "code",
   "execution_count": 9,
   "id": "14dacb1c-e256-4c3e-9eb6-204c5514d874",
   "metadata": {
    "tags": []
   },
   "outputs": [],
   "source": [
    "common_words = word_freq.most_common(30)"
   ]
  },
  {
   "cell_type": "code",
   "execution_count": 10,
   "id": "ea945609-aed3-41f3-a203-da07840893e5",
   "metadata": {
    "tags": []
   },
   "outputs": [
    {
     "name": "stdout",
     "output_type": "stream",
     "text": [
      "[('Gaia', 190), ('want', 99), ('know', 78), ('people', 75), ('self', 71), ('like', 68), ('system', 61), ('need', 58), ('think', 53), ('experience', 52), ('feel', 48), ('life', 46), ('feeling', 46), ('power', 44), ('body', 41), ('dream', 40), ('attention', 39), ('person', 38), ('mind', 35), ('systems', 34), ('living', 33), ('right', 33), ('way', 30), ('ideology', 30), ('emotions', 29), ('work', 29), ('time', 28), ('thinking', 27), ('away', 26), ('touch', 26)]\n"
     ]
    }
   ],
   "source": [
    "print(common_words)"
   ]
  },
  {
   "cell_type": "code",
   "execution_count": 11,
   "id": "5b7a3403-626e-484e-a634-8030ce6f3a05",
   "metadata": {
    "tags": []
   },
   "outputs": [
    {
     "name": "stdout",
     "output_type": "stream",
     "text": [
      "Gaia NNP PROPN noun, proper singular\n",
      "\n",
      " _SP SPACE whitespace\n",
      "C1 NN NOUN noun, singular or mass\n",
      ": : PUNCT punctuation mark, colon or ellipsis\n",
      "Introduction NN NOUN noun, singular or mass\n",
      "\n",
      " _SP SPACE whitespace\n",
      "After IN ADP conjunction, subordinating or preposition\n",
      "many JJ ADJ adjective (English), other noun-modifier (Chinese)\n",
      "years NNS NOUN noun, plural\n"
     ]
    }
   ],
   "source": [
    "for token in doc[1:10]:\n",
    "    print(token, token.tag_, token.pos_, spacy.explain(token.tag_))"
   ]
  },
  {
   "cell_type": "code",
   "execution_count": 12,
   "id": "441f8605-0ad6-4450-a46b-5af7dd67285f",
   "metadata": {
    "tags": []
   },
   "outputs": [
    {
     "name": "stdout",
     "output_type": "stream",
     "text": [
      "Total nouns: 685 \n",
      "First 5 nouns: [C1, Introduction, years, study, practice]\n",
      "Total adjectives: 277\n",
      "First 5 adjectives: [many, Buddhist, less, traditional, non]\n"
     ]
    }
   ],
   "source": [
    "nouns = []\n",
    "adjectives = []\n",
    "for token in [t for t in doc[2:4000] if t.text != \"-\"]:\n",
    "    if token.pos_ == 'NOUN':\n",
    "        nouns.append(token)\n",
    "    if token.pos_ == 'ADJ':\n",
    "        adjectives.append(token)\n",
    "\n",
    "print(f'Total nouns: {len(nouns)} \\nFirst 5 nouns: {nouns[:5]}')\n",
    "print(f'Total adjectives: {len(adjectives)}')\n",
    "print(f'First 5 adjectives: {adjectives[:5]}')"
   ]
  },
  {
   "cell_type": "code",
   "execution_count": 13,
   "id": "112cc59a-47dc-4232-bc8f-d9e734600e66",
   "metadata": {
    "tags": []
   },
   "outputs": [],
   "source": [
    "from spacy import displacy\n",
    "# Creates large image of relations\n",
    "#displacy.render(ss[3:4], style='dep', jupyter=True)"
   ]
  },
  {
   "cell_type": "markdown",
   "id": "97ba2d6b-4711-4a06-835a-a6c4a199d14d",
   "metadata": {
    "tags": []
   },
   "source": [
    "### A SpaCy Document is a list of tokens\n",
    "SpaCy **Doc** data structure is a sequence of Token objects allowing access to **sentences** \n",
    "and named entities."
   ]
  },
  {
   "cell_type": "code",
   "execution_count": 14,
   "id": "a6f3e986-b29a-4dae-b072-87f129e2a7f4",
   "metadata": {
    "tags": []
   },
   "outputs": [
    {
     "name": "stdout",
     "output_type": "stream",
     "text": [
      "Found proper noun before a verb: NASA\n",
      "Found proper noun before a verb: LeGuin\n",
      "Found proper noun before a verb: Contemplation\n",
      "Found proper noun before a verb: Gaia\n",
      "300\n",
      "Simularity between : and         0.4422609806060791\n"
     ]
    }
   ],
   "source": [
    "# Get all tokens and part-of-speech tags\n",
    "token_texts = [token.text for token in doc]\n",
    "pos_tags = [token.pos_ for token in doc]\n",
    "\n",
    "# Iterate over first 2000 tokens\n",
    "for token in doc[1:2000]:\n",
    "    # Check if the current token is a proper noun\n",
    "    if token.pos_ == \"PROPN\":\n",
    "        # Check if the next token is a verb\n",
    "        if doc[token.i + 1].pos_ == \"VERB\":\n",
    "            print(\"Found proper noun before a verb:\", token.text)\n",
    "\n",
    "center=4\n",
    "width=4\n",
    "print(f'{len(doc[1].vector)}')\n",
    "print(f'Simularity between {doc[center].text} and \\\n",
    "        {doc[center].similarity(doc[center-width:center+width])}')"
   ]
  },
  {
   "cell_type": "code",
   "execution_count": 15,
   "id": "1ceb459a-9cff-4b2e-b157-bf894a774789",
   "metadata": {},
   "outputs": [],
   "source": [
    "# Each vocabulary word has a 300 dim vector which is a word2vec vector\n",
    "# Dot product is not normalized but seems to work"
   ]
  },
  {
   "cell_type": "code",
   "execution_count": 16,
   "id": "d49d7d10-9add-4127-bbd1-5192cbfe4698",
   "metadata": {},
   "outputs": [
    {
     "data": {
      "text/plain": [
       "0.8249819"
      ]
     },
     "execution_count": 16,
     "metadata": {},
     "output_type": "execute_result"
    }
   ],
   "source": [
    "import numpy\n",
    "numpy.dot(doc.vocab['earth'].vector,doc.vocab['gaia'].vector)"
   ]
  },
  {
   "cell_type": "code",
   "execution_count": 17,
   "id": "9d929d40-b122-4276-afe3-989b8271f298",
   "metadata": {
    "tags": []
   },
   "outputs": [
    {
     "name": "stdout",
     "output_type": "stream",
     "text": [
      "[(3, 720), (720, 1912), (1912, 3603), (3603, 4985), (4985, 7204), (7204, 9617), (9617, 12594), (12594, 16739), (16739, 20888), (20888, 24152), (24152, None)]\n"
     ]
    }
   ],
   "source": [
    "from itertools import product\n",
    "from itertools import zip_longest\n",
    "c=[\"C1\", \"C2\", \"C3\", \"C4\", \"C5\", \"C6\", \"C7\", \"C8\", \"C9\", \"C10\", \"C11\"]\n",
    "starts=[ t.i for chap in c for t in doc if t.text==chap]\n",
    "ci=list(zip_longest(starts,starts[1:]))\n",
    "chaps=[ doc[s[0]:s[1]] for s in ci] # list of spans\n",
    "print(ci)"
   ]
  },
  {
   "cell_type": "code",
   "execution_count": 18,
   "id": "79dcfe28-d971-42ba-afba-ad61fdc04b7d",
   "metadata": {},
   "outputs": [],
   "source": [
    "pts=[\"P1\", \"P2\", \"P3\", \"P4\", \"P5\", \"P6\", \"P7\", \"P8\", \"P9\", \"P10\", \"P11\"]\n",
    "chap=5\n",
    "prompt=3\n",
    "pis=[ t.i for pstr in pts for t in chaps[chap] if t.text==pstr]\n",
    "pi=list(zip_longest(pis,pis[1:])) # iterator can only be used once\n",
    "ptexts=[ chaps[chap][s[0]:s[1]] for s in pi]\n",
    "chap6prompts=[ doc[s[0]:s[1]] for s in pi]\n",
    "sents=list(doc[pis[prompt-1]:pis[prompt]].sents)"
   ]
  },
  {
   "cell_type": "code",
   "execution_count": 29,
   "id": "1b8c6447-774a-4ac9-8ee2-e3268ee2bd02",
   "metadata": {
    "tags": []
   },
   "outputs": [],
   "source": [
    "with open(\"./eda.html\", 'w', encoding='utf-8') as f:\n",
    "    f.write(\"<!DOCMENT HTML>\")\n",
    "    f.write(\"<html><head><style>\")\n",
    "    f.write(\"html{ font-family: monospace; color:#888}\")    \n",
    "    f.write(\"</style>\")\n",
    "    for c in chaps:\n",
    "        f.write(f'<h1>{c[1:3].text}</h1>')\n",
    "        f.write(c.text)\n",
    "        \n",
    "    f.write(\"</html>\")"
   ]
  },
  {
   "cell_type": "markdown",
   "id": "f7bc03d4-b215-4779-a94c-ed3a466ff9f6",
   "metadata": {},
   "source": [
    "## Adding spans to Doc"
   ]
  },
  {
   "cell_type": "code",
   "execution_count": 20,
   "id": "089d2373-a750-4aac-a6a9-fac82d5ab71b",
   "metadata": {
    "tags": []
   },
   "outputs": [
    {
     "data": {
      "text/html": [
       "<span class=\"tex2jax_ignore\"><div class=\"spans\" style=\"line-height: 2.5; direction: ltr\">C1 : Introduction \n",
       "<span style=\"font-weight: bold; display: inline-block; position: relative;\">\n",
       "    \n",
       "\n",
       "    \n",
       "<span style=\"background: orange; top: 40px; height: 4px; left: -1px; width: calc(100% + 2px); position: absolute;\">\n",
       "</span>\n",
       "\n",
       "    \n",
       "<span style=\"background: orange; top: 40px; height: 4px; border-top-left-radius: 3px; border-bottom-left-radius: 3px; left: -1px; width: calc(100% + 2px); position: absolute;\">\n",
       "    <span style=\"background: orange; z-index: 10; color: #000; top: -0.5em; padding: 2px 3px; position: absolute; font-size: 0.6em; font-weight: bold; line-height: 1; border-radius: 3px\">\n",
       "        THOUGHT\n",
       "    </span>\n",
       "</span>\n",
       "\n",
       "\n",
       "</span>\n",
       "\n",
       "<span style=\"font-weight: bold; display: inline-block; position: relative;\">\n",
       "    After\n",
       "    \n",
       "<span style=\"background: orange; top: 40px; height: 4px; left: -1px; width: calc(100% + 2px); position: absolute;\">\n",
       "</span>\n",
       "\n",
       "<span style=\"background: green; top: 57px; height: 4px; left: -1px; width: calc(100% + 2px); position: absolute;\">\n",
       "</span>\n",
       "\n",
       "    \n",
       "<span style=\"background: green; top: 57px; height: 4px; border-top-left-radius: 3px; border-bottom-left-radius: 3px; left: -1px; width: calc(100% + 2px); position: absolute;\">\n",
       "    <span style=\"background: green; z-index: 10; color: #000; top: -0.5em; padding: 2px 3px; position: absolute; font-size: 0.6em; font-weight: bold; line-height: 1; border-radius: 3px\">\n",
       "        PHRASE1\n",
       "    </span>\n",
       "</span>\n",
       "\n",
       "\n",
       "</span>\n",
       "\n",
       "<span style=\"font-weight: bold; display: inline-block; position: relative;\">\n",
       "    many\n",
       "    \n",
       "<span style=\"background: orange; top: 40px; height: 4px; left: -1px; width: calc(100% + 2px); position: absolute;\">\n",
       "</span>\n",
       "\n",
       "<span style=\"background: green; top: 57px; height: 4px; left: -1px; width: calc(100% + 2px); position: absolute;\">\n",
       "</span>\n",
       "\n",
       "    \n",
       "</span>\n",
       "\n",
       "<span style=\"font-weight: bold; display: inline-block; position: relative;\">\n",
       "    years\n",
       "    \n",
       "<span style=\"background: orange; top: 40px; height: 4px; left: -1px; width: calc(100% + 2px); position: absolute;\">\n",
       "</span>\n",
       "\n",
       "<span style=\"background: green; top: 57px; height: 4px; left: -1px; width: calc(100% + 2px); position: absolute;\">\n",
       "</span>\n",
       "\n",
       "    \n",
       "</span>\n",
       "\n",
       "<span style=\"font-weight: bold; display: inline-block; position: relative;\">\n",
       "    of\n",
       "    \n",
       "<span style=\"background: orange; top: 40px; height: 4px; left: -1px; width: calc(100% + 2px); position: absolute;\">\n",
       "</span>\n",
       "\n",
       "<span style=\"background: green; top: 57px; height: 4px; left: -1px; width: calc(100% + 2px); position: absolute;\">\n",
       "</span>\n",
       "\n",
       "    \n",
       "</span>\n",
       "\n",
       "<span style=\"font-weight: bold; display: inline-block; position: relative;\">\n",
       "    Buddhist\n",
       "    \n",
       "<span style=\"background: orange; top: 40px; height: 4px; left: -1px; width: calc(100% + 2px); position: absolute;\">\n",
       "</span>\n",
       "\n",
       "<span style=\"background: green; top: 57px; height: 4px; left: -1px; width: calc(100% + 2px); position: absolute;\">\n",
       "</span>\n",
       "\n",
       "    \n",
       "</span>\n",
       "\n",
       "<span style=\"font-weight: bold; display: inline-block; position: relative;\">\n",
       "    study\n",
       "    \n",
       "<span style=\"background: orange; top: 40px; height: 4px; left: -1px; width: calc(100% + 2px); position: absolute;\">\n",
       "</span>\n",
       "\n",
       "<span style=\"background: green; top: 57px; height: 4px; left: -1px; width: calc(100% + 2px); position: absolute;\">\n",
       "</span>\n",
       "\n",
       "    \n",
       "</span>\n",
       "\n",
       "<span style=\"font-weight: bold; display: inline-block; position: relative;\">\n",
       "    and\n",
       "    \n",
       "<span style=\"background: orange; top: 40px; height: 4px; left: -1px; width: calc(100% + 2px); position: absolute;\">\n",
       "</span>\n",
       "\n",
       "<span style=\"background: green; top: 57px; height: 4px; left: -1px; width: calc(100% + 2px); position: absolute;\">\n",
       "</span>\n",
       "\n",
       "    \n",
       "</span>\n",
       "\n",
       "<span style=\"font-weight: bold; display: inline-block; position: relative;\">\n",
       "    practice\n",
       "    \n",
       "<span style=\"background: orange; top: 40px; height: 4px; left: -1px; width: calc(100% + 2px); position: absolute;\">\n",
       "</span>\n",
       "\n",
       "<span style=\"background: green; top: 57px; height: 4px; left: -1px; width: calc(100% + 2px); position: absolute;\">\n",
       "</span>\n",
       "\n",
       "    \n",
       "</span>\n",
       "\n",
       "<span style=\"font-weight: bold; display: inline-block; position: relative;\">\n",
       "    ,\n",
       "    \n",
       "<span style=\"background: orange; top: 40px; height: 4px; left: -1px; width: calc(100% + 2px); position: absolute;\">\n",
       "</span>\n",
       "\n",
       "<span style=\"background: green; top: 57px; height: 4px; left: -1px; width: calc(100% + 2px); position: absolute;\">\n",
       "</span>\n",
       "\n",
       "    \n",
       "</span>\n",
       "\n",
       "<span style=\"font-weight: bold; display: inline-block; position: relative;\">\n",
       "    and\n",
       "    \n",
       "<span style=\"background: orange; top: 40px; height: 4px; left: -1px; width: calc(100% + 2px); position: absolute;\">\n",
       "</span>\n",
       "\n",
       "<span style=\"background: green; top: 57px; height: 4px; left: -1px; width: calc(100% + 2px); position: absolute;\">\n",
       "</span>\n",
       "\n",
       "    \n",
       "</span>\n",
       "\n",
       "<span style=\"font-weight: bold; display: inline-block; position: relative;\">\n",
       "    being\n",
       "    \n",
       "<span style=\"background: orange; top: 40px; height: 4px; left: -1px; width: calc(100% + 2px); position: absolute;\">\n",
       "</span>\n",
       "\n",
       "<span style=\"background: green; top: 57px; height: 4px; left: -1px; width: calc(100% + 2px); position: absolute;\">\n",
       "</span>\n",
       "\n",
       "    \n",
       "</span>\n",
       "\n",
       "<span style=\"font-weight: bold; display: inline-block; position: relative;\">\n",
       "    influenced\n",
       "    \n",
       "<span style=\"background: orange; top: 40px; height: 4px; left: -1px; width: calc(100% + 2px); position: absolute;\">\n",
       "</span>\n",
       "\n",
       "<span style=\"background: green; top: 57px; height: 4px; left: -1px; width: calc(100% + 2px); position: absolute;\">\n",
       "</span>\n",
       "\n",
       "    \n",
       "</span>\n",
       "\n",
       "<span style=\"font-weight: bold; display: inline-block; position: relative;\">\n",
       "    by\n",
       "    \n",
       "<span style=\"background: orange; top: 40px; height: 4px; left: -1px; width: calc(100% + 2px); position: absolute;\">\n",
       "</span>\n",
       "\n",
       "<span style=\"background: green; top: 57px; height: 4px; left: -1px; width: calc(100% + 2px); position: absolute;\">\n",
       "</span>\n",
       "\n",
       "    \n",
       "</span>\n",
       "\n",
       "<span style=\"font-weight: bold; display: inline-block; position: relative;\">\n",
       "    less\n",
       "    \n",
       "<span style=\"background: orange; top: 40px; height: 4px; left: -1px; width: calc(100% + 2px); position: absolute;\">\n",
       "</span>\n",
       "\n",
       "<span style=\"background: green; top: 57px; height: 4px; left: -1px; width: calc(100% + 2px); position: absolute;\">\n",
       "</span>\n",
       "\n",
       "    \n",
       "</span>\n",
       "\n",
       "<span style=\"font-weight: bold; display: inline-block; position: relative;\">\n",
       "    traditional\n",
       "    \n",
       "<span style=\"background: orange; top: 40px; height: 4px; left: -1px; width: calc(100% + 2px); position: absolute;\">\n",
       "</span>\n",
       "\n",
       "<span style=\"background: green; top: 57px; height: 4px; left: -1px; width: calc(100% + 2px); position: absolute;\">\n",
       "</span>\n",
       "\n",
       "    \n",
       "</span>\n",
       "\n",
       "<span style=\"font-weight: bold; display: inline-block; position: relative;\">\n",
       "    non\n",
       "    \n",
       "<span style=\"background: orange; top: 40px; height: 4px; left: -1px; width: calc(100% + 2px); position: absolute;\">\n",
       "</span>\n",
       "\n",
       "<span style=\"background: green; top: 57px; height: 4px; left: -1px; width: calc(100% + 2px); position: absolute;\">\n",
       "</span>\n",
       "\n",
       "    \n",
       "</span>\n",
       "\n",
       "<span style=\"font-weight: bold; display: inline-block; position: relative;\">\n",
       "    -\n",
       "    \n",
       "<span style=\"background: orange; top: 40px; height: 4px; left: -1px; width: calc(100% + 2px); position: absolute;\">\n",
       "</span>\n",
       "\n",
       "<span style=\"background: green; top: 57px; height: 4px; left: -1px; width: calc(100% + 2px); position: absolute;\">\n",
       "</span>\n",
       "\n",
       "    \n",
       "</span>\n",
       "\n",
       "<span style=\"font-weight: bold; display: inline-block; position: relative;\">\n",
       "    duality\n",
       "    \n",
       "<span style=\"background: orange; top: 40px; height: 4px; left: -1px; width: calc(100% + 2px); position: absolute;\">\n",
       "</span>\n",
       "\n",
       "<span style=\"background: green; top: 57px; height: 4px; left: -1px; width: calc(100% + 2px); position: absolute;\">\n",
       "</span>\n",
       "\n",
       "    \n",
       "</span>\n",
       "\n",
       "<span style=\"font-weight: bold; display: inline-block; position: relative;\">\n",
       "    speakers\n",
       "    \n",
       "<span style=\"background: orange; top: 40px; height: 4px; left: -1px; width: calc(100% + 2px); position: absolute;\">\n",
       "</span>\n",
       "\n",
       "<span style=\"background: green; top: 57px; height: 4px; left: -1px; width: calc(100% + 2px); position: absolute;\">\n",
       "</span>\n",
       "\n",
       "    \n",
       "</span>\n",
       "\n",
       "<span style=\"font-weight: bold; display: inline-block; position: relative;\">\n",
       "    ,\n",
       "    \n",
       "<span style=\"background: orange; top: 40px; height: 4px; left: -1px; width: calc(100% + 2px); position: absolute;\">\n",
       "</span>\n",
       "\n",
       "    \n",
       "</span>\n",
       "\n",
       "<span style=\"font-weight: bold; display: inline-block; position: relative;\">\n",
       "    I\n",
       "    \n",
       "<span style=\"background: red; top: 40px; height: 4px; left: -1px; width: calc(100% + 2px); position: absolute;\">\n",
       "</span>\n",
       "\n",
       "<span style=\"background: orange; top: 57px; height: 4px; left: -1px; width: calc(100% + 2px); position: absolute;\">\n",
       "</span>\n",
       "\n",
       "    \n",
       "<span style=\"background: red; top: 40px; height: 4px; border-top-left-radius: 3px; border-bottom-left-radius: 3px; left: -1px; width: calc(100% + 2px); position: absolute;\">\n",
       "    <span style=\"background: red; z-index: 10; color: #000; top: -0.5em; padding: 2px 3px; position: absolute; font-size: 0.6em; font-weight: bold; line-height: 1; border-radius: 3px\">\n",
       "        PHRASE2\n",
       "    </span>\n",
       "</span>\n",
       "\n",
       "\n",
       "</span>\n",
       "\n",
       "<span style=\"font-weight: bold; display: inline-block; position: relative;\">\n",
       "    was\n",
       "    \n",
       "<span style=\"background: red; top: 40px; height: 4px; left: -1px; width: calc(100% + 2px); position: absolute;\">\n",
       "</span>\n",
       "\n",
       "<span style=\"background: orange; top: 57px; height: 4px; left: -1px; width: calc(100% + 2px); position: absolute;\">\n",
       "</span>\n",
       "\n",
       "    \n",
       "</span>\n",
       "\n",
       "<span style=\"font-weight: bold; display: inline-block; position: relative;\">\n",
       "    inspired\n",
       "    \n",
       "<span style=\"background: red; top: 40px; height: 4px; left: -1px; width: calc(100% + 2px); position: absolute;\">\n",
       "</span>\n",
       "\n",
       "<span style=\"background: orange; top: 57px; height: 4px; left: -1px; width: calc(100% + 2px); position: absolute;\">\n",
       "</span>\n",
       "\n",
       "    \n",
       "</span>\n",
       "\n",
       "<span style=\"font-weight: bold; display: inline-block; position: relative;\">\n",
       "    to\n",
       "    \n",
       "<span style=\"background: red; top: 40px; height: 4px; left: -1px; width: calc(100% + 2px); position: absolute;\">\n",
       "</span>\n",
       "\n",
       "<span style=\"background: orange; top: 57px; height: 4px; left: -1px; width: calc(100% + 2px); position: absolute;\">\n",
       "</span>\n",
       "\n",
       "    \n",
       "</span>\n",
       "\n",
       "<span style=\"font-weight: bold; display: inline-block; position: relative;\">\n",
       "    develop\n",
       "    \n",
       "<span style=\"background: red; top: 40px; height: 4px; left: -1px; width: calc(100% + 2px); position: absolute;\">\n",
       "</span>\n",
       "\n",
       "<span style=\"background: orange; top: 57px; height: 4px; left: -1px; width: calc(100% + 2px); position: absolute;\">\n",
       "</span>\n",
       "\n",
       "    \n",
       "</span>\n",
       "\n",
       "<span style=\"font-weight: bold; display: inline-block; position: relative;\">\n",
       "    a\n",
       "    \n",
       "<span style=\"background: red; top: 40px; height: 4px; left: -1px; width: calc(100% + 2px); position: absolute;\">\n",
       "</span>\n",
       "\n",
       "<span style=\"background: orange; top: 57px; height: 4px; left: -1px; width: calc(100% + 2px); position: absolute;\">\n",
       "</span>\n",
       "\n",
       "    \n",
       "</span>\n",
       "\n",
       "<span style=\"font-weight: bold; display: inline-block; position: relative;\">\n",
       "    contemplation\n",
       "    \n",
       "<span style=\"background: red; top: 40px; height: 4px; left: -1px; width: calc(100% + 2px); position: absolute;\">\n",
       "</span>\n",
       "\n",
       "<span style=\"background: orange; top: 57px; height: 4px; left: -1px; width: calc(100% + 2px); position: absolute;\">\n",
       "</span>\n",
       "\n",
       "    \n",
       "</span>\n",
       "\n",
       "<span style=\"font-weight: bold; display: inline-block; position: relative;\">\n",
       "    practice\n",
       "    \n",
       "<span style=\"background: red; top: 40px; height: 4px; left: -1px; width: calc(100% + 2px); position: absolute;\">\n",
       "</span>\n",
       "\n",
       "<span style=\"background: orange; top: 57px; height: 4px; left: -1px; width: calc(100% + 2px); position: absolute;\">\n",
       "</span>\n",
       "\n",
       "    \n",
       "</span>\n",
       "\n",
       "<span style=\"font-weight: bold; display: inline-block; position: relative;\">\n",
       "    called\n",
       "    \n",
       "<span style=\"background: red; top: 40px; height: 4px; left: -1px; width: calc(100% + 2px); position: absolute;\">\n",
       "</span>\n",
       "\n",
       "<span style=\"background: orange; top: 57px; height: 4px; left: -1px; width: calc(100% + 2px); position: absolute;\">\n",
       "</span>\n",
       "\n",
       "    \n",
       "</span>\n",
       "\n",
       "<span style=\"font-weight: bold; display: inline-block; position: relative;\">\n",
       "    \"\n",
       "    \n",
       "<span style=\"background: red; top: 40px; height: 4px; left: -1px; width: calc(100% + 2px); position: absolute;\">\n",
       "</span>\n",
       "\n",
       "<span style=\"background: orange; top: 57px; height: 4px; left: -1px; width: calc(100% + 2px); position: absolute;\">\n",
       "</span>\n",
       "\n",
       "    \n",
       "</span>\n",
       "\n",
       "<span style=\"font-weight: bold; display: inline-block; position: relative;\">\n",
       "    Knowing\n",
       "    \n",
       "<span style=\"background: red; top: 40px; height: 4px; left: -1px; width: calc(100% + 2px); position: absolute;\">\n",
       "</span>\n",
       "\n",
       "<span style=\"background: orange; top: 57px; height: 4px; left: -1px; width: calc(100% + 2px); position: absolute;\">\n",
       "</span>\n",
       "\n",
       "    \n",
       "</span>\n",
       "\n",
       "<span style=\"font-weight: bold; display: inline-block; position: relative;\">\n",
       "    Gaia\n",
       "    \n",
       "<span style=\"background: red; top: 40px; height: 4px; left: -1px; width: calc(100% + 2px); position: absolute;\">\n",
       "</span>\n",
       "\n",
       "    \n",
       "</span>\n",
       "&quot; . I 've combined my experience of meditation and a Buddhist world view with a more contemporary approach which is not based on any spiritual authority . </div></span>"
      ],
      "text/plain": [
       "<IPython.core.display.HTML object>"
      ]
     },
     "metadata": {},
     "output_type": "display_data"
    }
   ],
   "source": [
    "from spacy import displacy\n",
    "from spacy.tokens import Span\n",
    "\n",
    "sents = list(chaps[0].sents)\n",
    "type(doc)\n",
    "type(sents)\n",
    "options = {\"colors\": {\"PHRASE1\": \"green\",\n",
    "                      \"PHRASE2\": \"red\",\n",
    "                      \"THOUGHT\": \"orange\"}}\n",
    "\n",
    "# type(chap[0]) = spacy.tokens.span.Span\n",
    "# type(chap[0][1:60]) = spacy.tokens.span.Span\n",
    "\n",
    "smalldoc=chaps[0][0:64].as_doc()\n",
    "smalldoc.spans[\"sc\"] = [\n",
    " \n",
    "    Span(doc, 24, 36, \"PHRASE2\"),\n",
    "    Span(doc, 3, 35, \"THOUGHT\"),\n",
    "      Span(doc, 4, 23, \"PHRASE1\"), \n",
    "\n",
    "]\n",
    "displacy.render( smalldoc, style='span',options=options)"
   ]
  },
  {
   "cell_type": "markdown",
   "id": "57ff2ed3-9d33-4b49-bf2b-2f30f65d1a22",
   "metadata": {
    "tags": []
   },
   "source": [
    "## References\n",
    "\n",
    "- [Thinc way](\n",
    "https://thinc.ai/docs/usage-type-checking) typechecking using mypy.\n",
    "- [RealPython notes on SpaCy](https://realpython.com/natural-language-processing-spacy-python/#preprocessing-functions)"
   ]
  }
 ],
 "metadata": {
  "kernelspec": {
   "display_name": "Python 3 (ipykernel)",
   "language": "python",
   "name": "python3"
  },
  "language_info": {
   "codemirror_mode": {
    "name": "ipython",
    "version": 3
   },
   "file_extension": ".py",
   "mimetype": "text/x-python",
   "name": "python",
   "nbconvert_exporter": "python",
   "pygments_lexer": "ipython3",
   "version": "3.8.10"
  }
 },
 "nbformat": 4,
 "nbformat_minor": 5
}
